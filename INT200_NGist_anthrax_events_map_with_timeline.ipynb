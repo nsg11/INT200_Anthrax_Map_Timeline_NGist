{
 "cells": [
  {
   "cell_type": "code",
   "execution_count": 4,
   "id": "11192aa6-90ea-412f-8a5b-efab46cebae7",
   "metadata": {
    "scrolled": true
   },
   "outputs": [
    {
     "name": "stdout",
     "output_type": "stream",
     "text": [
      "Map with timeline integrated created! Open 'INT200_NGist_anthrax_events_map_with_timeline.html' in your browser to view.\n"
     ]
    }
   ],
   "source": [
    "import folium\n",
    "\n",
    "# Create the base map centered in the US\n",
    "anthrax_map = folium.Map(location=[37.8, -96], zoom_start=5)\n",
    "\n",
    "# List of all locations and events\n",
    "event_locations = [\n",
    "    {\"name\": \"10 Nassau Street, Princeton, NJ\", \"coords\": [40.3487, -74.6598],\n",
    "     \"event\": \"2001-09-18: The first letters containing anthrax are mailed.\"},\n",
    "    {\"name\": \"Boca Raton, FL\", \"coords\": [26.3587, -80.0831],\n",
    "     \"event\": \"2001-09-19: Robert Stevens handled an anthrax-contaminated letter.<br>2001-09-28: Stevens hospitalized.<br>2001-10-05: Stevens died.\"},\n",
    "    {\"name\": \"New York City, NY\", \"coords\": [40.7128, -74.0060],\n",
    "     \"event\": \"2001-09-21: Johanna Huden noticed symptoms.<br>2001-10-10: NBC employee tested positive.<br>2001-10-12: Erin O’Connor developed anthrax.\"},\n",
    "    {\"name\": \"NBC Office, New York City, NY\", \"coords\": [40.755, -73.984],\n",
    "     \"event\": \"2001-09-25: Erin O’Connor handled a threatening letter postmarked from Trenton.\"},\n",
    "    {\"name\": \"Hamilton Township, NJ\", \"coords\": [40.2116, -74.6963],\n",
    "     \"event\": \"2001-09-26: Postal worker Richard Morgano developed cutaneous anthrax.\"},\n",
    "    {\"name\": \"American Media Inc., Boca Raton, FL\", \"coords\": [26.3571, -80.0831],\n",
    "     \"event\": \"2001-10-08: FBI launched a criminal investigation; anthrax found in the building.\"},\n",
    "    {\"name\": \"The Hart Senate Office Building, Washington, D.C.\", \"coords\": [38.8903, -77.0091],\n",
    "     \"event\": \"2001-10-16: Senator Tom Daschle’s office received a letter containing anthrax spores.\"},\n",
    "    {\"name\": \"Brentwood Mail Facility, Washington, D.C.\", \"coords\": [38.9276, -76.9939],\n",
    "     \"event\": \"2001-10-19: Workers developed inhalation anthrax.<br>2001-10-22: Facility closed after two deaths.\"},\n",
    "    {\"name\": \"Fort Detrick, MD\", \"coords\": [39.6243, -77.4163],\n",
    "     \"event\": \"2002-04-01: Spores traced to Bruce Ivins’ office.<br>2010-04-01: FBI confirmed spores originated here.\"},\n",
    "    {\"name\": \"Oxford, CT\", \"coords\": [41.4334, -73.1168],\n",
    "     \"event\": \"2001-11-21: Ottilie Lundgren, 94, became the fifth person to die from inhalation anthrax.\"},\n",
    "]\n",
    "\n",
    "# Add markers for all locations\n",
    "for loc in event_locations:\n",
    "    folium.Marker(\n",
    "        location=loc[\"coords\"],\n",
    "        popup=f\"<b>{loc['name']}</b><br>{loc['event']}\",\n",
    "        tooltip=loc[\"name\"]\n",
    "    ).add_to(anthrax_map)\n",
    "\n",
    "# Save the initial map as HTML\n",
    "map_file = \"anthrax_events_map.html\"\n",
    "anthrax_map.save(map_file)\n",
    "\n",
    "# Define the timeline iframe code\n",
    "timeline_code = \"\"\"\n",
    "<div style=\"display: flex; height: 100vh;\">\n",
    "    <!-- Map container -->\n",
    "    <div id=\"map\" style=\"flex: 3;\"></div>\n",
    "\n",
    "    <!-- Timeline container -->\n",
    "    <div style=\"flex: 1; background: white; overflow-y: auto; padding: 10px; border-left: 2px solid black;\">\n",
    "        <iframe src='https://cdn.knightlab.com/libs/timeline3/latest/embed/index.html?source=1BPnam7nVGZlzx7PPaF6rij3jbN6m2c7qr2p7JbKeGk4&font=Default&lang=en&initial_zoom=2&height=650'\n",
    "                width='100%' height='100%' webkitallowfullscreen mozallowfullscreen allowfullscreen frameborder='0'>\n",
    "        </iframe>\n",
    "    </div>\n",
    "</div>\n",
    "\"\"\"\n",
    "\n",
    "# Inject the timeline code into the HTML map file\n",
    "with open(map_file, \"r\") as file:\n",
    "    map_html = file.read()\n",
    "\n",
    "# Replace the <body> tag to include the timeline layout\n",
    "map_html = map_html.replace('<body>', f'<body>{timeline_code}')\n",
    "\n",
    "# Save the final file with the timeline integrated\n",
    "final_map_file = \"INT200_NGist_anthrax_events_map_with_timeline.html\"\n",
    "with open(final_map_file, \"w\") as file:\n",
    "    file.write(map_html)\n",
    "\n",
    "print(f\"Map with timeline integrated created! Open '{final_map_file}' in your browser to view.\")\n"
   ]
  },
  {
   "cell_type": "code",
   "execution_count": null,
   "id": "c32ad690-86c3-41e1-b9c1-dc91a0b43b65",
   "metadata": {},
   "outputs": [],
   "source": []
  }
 ],
 "metadata": {
  "kernelspec": {
   "display_name": "Python 3 (ipykernel)",
   "language": "python",
   "name": "python3"
  },
  "language_info": {
   "codemirror_mode": {
    "name": "ipython",
    "version": 3
   },
   "file_extension": ".py",
   "mimetype": "text/x-python",
   "name": "python",
   "nbconvert_exporter": "python",
   "pygments_lexer": "ipython3",
   "version": "3.11.2"
  }
 },
 "nbformat": 4,
 "nbformat_minor": 5
}
