{
 "cells": [
  {
   "cell_type": "markdown",
   "metadata": {
    "id": "x6vSsNlHKGq7"
   },
   "source": []
  },
  {
   "cell_type": "code",
   "execution_count": 2,
   "metadata": {
    "colab": {
     "base_uri": "https://localhost:8080/"
    },
    "id": "Ly4oX6KCKHHt",
    "outputId": "00a72304-8b65-4502-a21c-bb3e12dc1880"
   },
   "outputs": [
    {
     "name": "stdout",
     "output_type": "stream",
     "text": [
      "Collecting folium\n",
      "  Downloading folium-0.19.4-py2.py3-none-any.whl (110 kB)\n",
      "\u001b[2K     \u001b[90m━━━━━━━━━━━━━━━━━━━━━━━━━━━━━━━━━━━━━━━\u001b[0m \u001b[32m110.5/110.5 kB\u001b[0m \u001b[31m2.1 MB/s\u001b[0m eta \u001b[36m0:00:00\u001b[0ma \u001b[36m0:00:01\u001b[0m\n",
      "Collecting branca>=0.6.0\n",
      "  Downloading branca-0.8.1-py3-none-any.whl (26 kB)\n",
      "Requirement already satisfied: jinja2>=2.9 in /home/nijeagist/venv/lib/python3.11/site-packages (from folium) (3.1.5)\n",
      "Collecting numpy\n",
      "  Downloading numpy-2.2.2-cp311-cp311-manylinux_2_17_x86_64.manylinux2014_x86_64.whl (16.4 MB)\n",
      "\u001b[2K     \u001b[90m━━━━━━━━━━━━━━━━━━━━━━━━━━━━━━━━━━━━━━━━\u001b[0m \u001b[32m16.4/16.4 MB\u001b[0m \u001b[31m12.5 MB/s\u001b[0m eta \u001b[36m0:00:00\u001b[0m00:01\u001b[0m00:01\u001b[0m\n",
      "Requirement already satisfied: requests in /home/nijeagist/venv/lib/python3.11/site-packages (from folium) (2.32.3)\n",
      "Collecting xyzservices\n",
      "  Downloading xyzservices-2025.1.0-py3-none-any.whl (88 kB)\n",
      "\u001b[2K     \u001b[90m━━━━━━━━━━━━━━━━━━━━━━━━━━━━━━━━━━━━━━━━\u001b[0m \u001b[32m88.4/88.4 kB\u001b[0m \u001b[31m7.7 MB/s\u001b[0m eta \u001b[36m0:00:00\u001b[0m\n",
      "\u001b[?25hRequirement already satisfied: MarkupSafe>=2.0 in /home/nijeagist/venv/lib/python3.11/site-packages (from jinja2>=2.9->folium) (3.0.2)\n",
      "Requirement already satisfied: charset-normalizer<4,>=2 in /home/nijeagist/venv/lib/python3.11/site-packages (from requests->folium) (3.4.1)\n",
      "Requirement already satisfied: idna<4,>=2.5 in /home/nijeagist/venv/lib/python3.11/site-packages (from requests->folium) (3.10)\n",
      "Requirement already satisfied: urllib3<3,>=1.21.1 in /home/nijeagist/venv/lib/python3.11/site-packages (from requests->folium) (2.3.0)\n",
      "Requirement already satisfied: certifi>=2017.4.17 in /home/nijeagist/venv/lib/python3.11/site-packages (from requests->folium) (2024.12.14)\n",
      "Installing collected packages: xyzservices, numpy, branca, folium\n",
      "Successfully installed branca-0.8.1 folium-0.19.4 numpy-2.2.2 xyzservices-2025.1.0\n",
      "Note: you may need to restart the kernel to use updated packages.\n"
     ]
    }
   ],
   "source": [
    "pip install folium"
   ]
  },
  {
   "cell_type": "code",
   "execution_count": 3,
   "metadata": {
    "colab": {
     "base_uri": "https://localhost:8080/"
    },
    "id": "YmzYHWZEMKGK",
    "outputId": "4b494a7e-a780-4b89-fbf7-1adc05bece65"
   },
   "outputs": [
    {
     "name": "stdout",
     "output_type": "stream",
     "text": [
      "Requirement already satisfied: folium in /home/nijeagist/venv/lib/python3.11/site-packages (0.19.4)\n",
      "Collecting geopandas\n",
      "  Downloading geopandas-1.0.1-py3-none-any.whl (323 kB)\n",
      "\u001b[2K     \u001b[90m━━━━━━━━━━━━━━━━━━━━━━━━━━━━━━━━━━━━━━━\u001b[0m \u001b[32m323.6/323.6 kB\u001b[0m \u001b[31m4.1 MB/s\u001b[0m eta \u001b[36m0:00:00\u001b[0m00:01\u001b[0m00:01\u001b[0m\n",
      "Collecting matplotlib\n",
      "  Downloading matplotlib-3.10.0-cp311-cp311-manylinux_2_17_x86_64.manylinux2014_x86_64.whl (8.6 MB)\n",
      "\u001b[2K     \u001b[90m━━━━━━━━━━━━━━━━━━━━━━━━━━━━━━━━━━━━━━━━\u001b[0m \u001b[32m8.6/8.6 MB\u001b[0m \u001b[31m10.7 MB/s\u001b[0m eta \u001b[36m0:00:00\u001b[0m00:01\u001b[0m00:01\u001b[0m\n",
      "Requirement already satisfied: branca>=0.6.0 in /home/nijeagist/venv/lib/python3.11/site-packages (from folium) (0.8.1)\n",
      "Requirement already satisfied: jinja2>=2.9 in /home/nijeagist/venv/lib/python3.11/site-packages (from folium) (3.1.5)\n",
      "Requirement already satisfied: numpy in /home/nijeagist/venv/lib/python3.11/site-packages (from folium) (2.2.2)\n",
      "Requirement already satisfied: requests in /home/nijeagist/venv/lib/python3.11/site-packages (from folium) (2.32.3)\n",
      "Requirement already satisfied: xyzservices in /home/nijeagist/venv/lib/python3.11/site-packages (from folium) (2025.1.0)\n",
      "Collecting pyogrio>=0.7.2\n",
      "  Downloading pyogrio-0.10.0-cp311-cp311-manylinux_2_28_x86_64.whl (24.1 MB)\n",
      "\u001b[2K     \u001b[90m━━━━━━━━━━━━━━━━━━━━━━━━━━━━━━━━━━━━━━━━\u001b[0m \u001b[32m24.1/24.1 MB\u001b[0m \u001b[31m8.2 MB/s\u001b[0m eta \u001b[36m0:00:00\u001b[0m:00:01\u001b[0m00:01\u001b[0m\n",
      "Requirement already satisfied: packaging in /home/nijeagist/venv/lib/python3.11/site-packages (from geopandas) (24.2)\n",
      "Collecting pandas>=1.4.0\n",
      "  Downloading pandas-2.2.3-cp311-cp311-manylinux_2_17_x86_64.manylinux2014_x86_64.whl (13.1 MB)\n",
      "\u001b[2K     \u001b[90m━━━━━━━━━━━━━━━━━━━━━━━━━━━━━━━━━━━━━━━━\u001b[0m \u001b[32m13.1/13.1 MB\u001b[0m \u001b[31m16.6 MB/s\u001b[0m eta \u001b[36m0:00:00\u001b[0m00:01\u001b[0m00:01\u001b[0m\n",
      "Collecting pyproj>=3.3.0\n",
      "  Downloading pyproj-3.7.0-cp311-cp311-manylinux_2_17_x86_64.manylinux2014_x86_64.whl (9.5 MB)\n",
      "\u001b[2K     \u001b[90m━━━━━━━━━━━━━━━━━━━━━━━━━━━━━━━━━━━━━━━━\u001b[0m \u001b[32m9.5/9.5 MB\u001b[0m \u001b[31m19.2 MB/s\u001b[0m eta \u001b[36m0:00:00\u001b[0m00:01\u001b[0m00:01\u001b[0m\n",
      "Collecting shapely>=2.0.0\n",
      "  Downloading shapely-2.0.6-cp311-cp311-manylinux_2_17_x86_64.manylinux2014_x86_64.whl (2.5 MB)\n",
      "\u001b[2K     \u001b[90m━━━━━━━━━━━━━━━━━━━━━━━━━━━━━━━━━━━━━━━━\u001b[0m \u001b[32m2.5/2.5 MB\u001b[0m \u001b[31m14.5 MB/s\u001b[0m eta \u001b[36m0:00:00\u001b[0m00:01\u001b[0m00:01\u001b[0m\n",
      "Collecting contourpy>=1.0.1\n",
      "  Downloading contourpy-1.3.1-cp311-cp311-manylinux_2_17_x86_64.manylinux2014_x86_64.whl (326 kB)\n",
      "\u001b[2K     \u001b[90m━━━━━━━━━━━━━━━━━━━━━━━━━━━━━━━━━━━━━━━\u001b[0m \u001b[32m326.2/326.2 kB\u001b[0m \u001b[31m9.7 MB/s\u001b[0m eta \u001b[36m0:00:00\u001b[0m\n",
      "Collecting cycler>=0.10\n",
      "  Downloading cycler-0.12.1-py3-none-any.whl (8.3 kB)\n",
      "Collecting fonttools>=4.22.0\n",
      "  Downloading fonttools-4.55.6-cp311-cp311-manylinux_2_17_x86_64.manylinux2014_x86_64.whl (4.9 MB)\n",
      "\u001b[2K     \u001b[90m━━━━━━━━━━━━━━━━━━━━━━━━━━━━━━━━━━━━━━━━\u001b[0m \u001b[32m4.9/4.9 MB\u001b[0m \u001b[31m16.6 MB/s\u001b[0m eta \u001b[36m0:00:00\u001b[0m00:01\u001b[0m00:01\u001b[0m\n",
      "Collecting kiwisolver>=1.3.1\n",
      "  Downloading kiwisolver-1.4.8-cp311-cp311-manylinux_2_17_x86_64.manylinux2014_x86_64.whl (1.4 MB)\n",
      "\u001b[2K     \u001b[90m━━━━━━━━━━━━━━━━━━━━━━━━━━━━━━━━━━━━━━━━\u001b[0m \u001b[32m1.4/1.4 MB\u001b[0m \u001b[31m14.9 MB/s\u001b[0m eta \u001b[36m0:00:00\u001b[0m00:01\u001b[0m00:01\u001b[0m\n",
      "Collecting pillow>=8\n",
      "  Downloading pillow-11.1.0-cp311-cp311-manylinux_2_28_x86_64.whl (4.5 MB)\n",
      "\u001b[2K     \u001b[90m━━━━━━━━━━━━━━━━━━━━━━━━━━━━━━━━━━━━━━━━\u001b[0m \u001b[32m4.5/4.5 MB\u001b[0m \u001b[31m14.4 MB/s\u001b[0m eta \u001b[36m0:00:00\u001b[0m00:01\u001b[0m00:01\u001b[0m\n",
      "Collecting pyparsing>=2.3.1\n",
      "  Downloading pyparsing-3.2.1-py3-none-any.whl (107 kB)\n",
      "\u001b[2K     \u001b[90m━━━━━━━━━━━━━━━━━━━━━━━━━━━━━━━━━━━━━━━\u001b[0m \u001b[32m107.7/107.7 kB\u001b[0m \u001b[31m4.9 MB/s\u001b[0m eta \u001b[36m0:00:00\u001b[0m\n",
      "\u001b[?25hRequirement already satisfied: python-dateutil>=2.7 in /home/nijeagist/venv/lib/python3.11/site-packages (from matplotlib) (2.9.0.post0)\n",
      "Requirement already satisfied: MarkupSafe>=2.0 in /home/nijeagist/venv/lib/python3.11/site-packages (from jinja2>=2.9->folium) (3.0.2)\n",
      "Collecting pytz>=2020.1\n",
      "  Downloading pytz-2024.2-py2.py3-none-any.whl (508 kB)\n",
      "\u001b[2K     \u001b[90m━━━━━━━━━━━━━━━━━━━━━━━━━━━━━━━━━━━━━━━\u001b[0m \u001b[32m508.0/508.0 kB\u001b[0m \u001b[31m7.2 MB/s\u001b[0m eta \u001b[36m0:00:00\u001b[0m00:01\u001b[0m\n",
      "Collecting tzdata>=2022.7\n",
      "  Downloading tzdata-2025.1-py2.py3-none-any.whl (346 kB)\n",
      "\u001b[2K     \u001b[90m━━━━━━━━━━━━━━━━━━━━━━━━━━━━━━━━━━━━━━\u001b[0m \u001b[32m346.8/346.8 kB\u001b[0m \u001b[31m13.3 MB/s\u001b[0m eta \u001b[36m0:00:00\u001b[0m\n",
      "Requirement already satisfied: certifi in /home/nijeagist/venv/lib/python3.11/site-packages (from pyogrio>=0.7.2->geopandas) (2024.12.14)\n",
      "Requirement already satisfied: six>=1.5 in /home/nijeagist/venv/lib/python3.11/site-packages (from python-dateutil>=2.7->matplotlib) (1.17.0)\n",
      "Requirement already satisfied: charset-normalizer<4,>=2 in /home/nijeagist/venv/lib/python3.11/site-packages (from requests->folium) (3.4.1)\n",
      "Requirement already satisfied: idna<4,>=2.5 in /home/nijeagist/venv/lib/python3.11/site-packages (from requests->folium) (3.10)\n",
      "Requirement already satisfied: urllib3<3,>=1.21.1 in /home/nijeagist/venv/lib/python3.11/site-packages (from requests->folium) (2.3.0)\n",
      "Installing collected packages: pytz, tzdata, shapely, pyproj, pyparsing, pyogrio, pillow, kiwisolver, fonttools, cycler, contourpy, pandas, matplotlib, geopandas\n",
      "Successfully installed contourpy-1.3.1 cycler-0.12.1 fonttools-4.55.6 geopandas-1.0.1 kiwisolver-1.4.8 matplotlib-3.10.0 pandas-2.2.3 pillow-11.1.0 pyogrio-0.10.0 pyparsing-3.2.1 pyproj-3.7.0 pytz-2024.2 shapely-2.0.6 tzdata-2025.1\n",
      "Note: you may need to restart the kernel to use updated packages.\n"
     ]
    }
   ],
   "source": [
    "pip install folium geopandas matplotlib"
   ]
  },
  {
   "cell_type": "code",
   "execution_count": 4,
   "metadata": {
    "colab": {
     "base_uri": "https://localhost:8080/"
    },
    "id": "TftxR8wBMVZq",
    "outputId": "ee83ce83-0203-464b-aa1f-60df752864d4"
   },
   "outputs": [
    {
     "name": "stdout",
     "output_type": "stream",
     "text": [
      "Map created successfully! Open 'INT200:NGist_anthrax_events_map.html' in a browser to view it.\n"
     ]
    }
   ],
   "source": [
    "import folium\n",
    "\n",
    "# Create the base map centered in the US\n",
    "anthrax_map = folium.Map(location=[37.8, -96], zoom_start=5)\n",
    "\n",
    "# List of locations and their events\n",
    "event_locations = [\n",
    "    {\"name\": \"Boca Raton, FL\", \"coords\": [26.3587, -80.0831],\n",
    "     \"event\": \"Robert Stevens died from inhalation anthrax (Oct 5, 2001).\"},\n",
    "    {\"name\": \"New York City, NY\", \"coords\": [40.7128, -74.0060],\n",
    "     \"event\": \"Anthrax cases at NBC, ABC, CBS, and NY Post (Sept-Oct 2001).\"},\n",
    "    {\"name\": \"Trenton, NJ\", \"coords\": [40.2289, -74.7482],\n",
    "     \"event\": \"Anthrax-laced letters mailed from Trenton (Sept 2001).\"},\n",
    "    {\"name\": \"Washington, D.C. (Brentwood)\", \"coords\": [38.9097, -77.0186],\n",
    "     \"event\": \"Two postal workers died from inhalation anthrax (Oct 21, 2001).\"},\n",
    "    {\"name\": \"Hamilton Township, NJ\", \"coords\": [40.2116, -74.6963],\n",
    "     \"event\": \"Postal worker Richard Morgano contracted cutaneous anthrax (Sept 2001).\"},\n",
    "    {\"name\": \"Connecticut\", \"coords\": [41.6032, -73.0877],\n",
    "     \"event\": \"Ottilie Lundgren died from inhalation anthrax (Nov 21, 2001).\"},\n",
    "    {\"name\": \"Fort Detrick, MD\", \"coords\": [39.6243, -77.4163],\n",
    "     \"event\": \"Spores traced to lab; Bruce Ivins implicated (Apr 2002).\"},\n",
    "    {\"name\": \"Virginia\", \"coords\": [37.4316, -78.6569],\n",
    "     \"event\": \"State Department mail center worker diagnosed (Oct 22, 2001).\"},\n",
    "    {\"name\": \"Manhattan, NY\", \"coords\": [40.7831, -73.9712],\n",
    "     \"event\": \"Kathy Nguyen, a hospital worker, died from inhalation anthrax (Oct 31, 2001).\"},\n",
    "]\n",
    "\n",
    "# Add markers for each event\n",
    "for loc in event_locations:\n",
    "    folium.Marker(\n",
    "        location=loc[\"coords\"],\n",
    "        popup=f\"<b>{loc['name']}</b><br>{loc['event']}\",\n",
    "        tooltip=loc[\"name\"]\n",
    "    ).add_to(anthrax_map)\n",
    "\n",
    "# Save the map to an HTML file\n",
    "anthrax_map.save(\"INT200:NGist_anthrax_events_map.html\")\n",
    "\n",
    "print(\"Map created successfully! Open 'INT200:NGist_anthrax_events_map.html' in a browser to view it.\")\n"
   ]
  },
  {
   "cell_type": "code",
   "execution_count": null,
   "metadata": {},
   "outputs": [],
   "source": []
  }
 ],
 "metadata": {
  "colab": {
   "name": "Welcome To Colab",
   "provenance": []
  },
  "kernelspec": {
   "display_name": "Python 3 (ipykernel)",
   "language": "python",
   "name": "python3"
  },
  "language_info": {
   "codemirror_mode": {
    "name": "ipython",
    "version": 3
   },
   "file_extension": ".py",
   "mimetype": "text/x-python",
   "name": "python",
   "nbconvert_exporter": "python",
   "pygments_lexer": "ipython3",
   "version": "3.11.2"
  }
 },
 "nbformat": 4,
 "nbformat_minor": 4
}
